{
  "nbformat": 4,
  "nbformat_minor": 0,
  "metadata": {
    "colab": {
      "provenance": []
    },
    "kernelspec": {
      "name": "python3",
      "display_name": "Python 3"
    },
    "language_info": {
      "name": "python"
    },
    "accelerator": "GPU",
    "gpuClass": "standard"
  },
  "cells": [
    {
      "cell_type": "markdown",
      "source": [
        "### Keras Sequencial Model\n",
        "- A sequential model is a linear stack of layers.\n",
        "- Stacking convolution layers one above the other. "
      ],
      "metadata": {
        "id": "MZBYRAIkTdgF"
      }
    },
    {
      "cell_type": "code",
      "source": [
        "!pip install tensorflow"
      ],
      "metadata": {
        "colab": {
          "base_uri": "https://localhost:8080/"
        },
        "id": "fo8KE62_TlqJ",
        "outputId": "18bd2906-9047-45ed-c817-e41053519cf5"
      },
      "execution_count": null,
      "outputs": [
        {
          "output_type": "stream",
          "name": "stdout",
          "text": [
            "Looking in indexes: https://pypi.org/simple, https://us-python.pkg.dev/colab-wheels/public/simple/\n",
            "Requirement already satisfied: tensorflow in /usr/local/lib/python3.8/dist-packages (2.11.0)\n",
            "Requirement already satisfied: h5py>=2.9.0 in /usr/local/lib/python3.8/dist-packages (from tensorflow) (3.1.0)\n",
            "Requirement already satisfied: google-pasta>=0.1.1 in /usr/local/lib/python3.8/dist-packages (from tensorflow) (0.2.0)\n",
            "Requirement already satisfied: grpcio<2.0,>=1.24.3 in /usr/local/lib/python3.8/dist-packages (from tensorflow) (1.51.1)\n",
            "Requirement already satisfied: setuptools in /usr/local/lib/python3.8/dist-packages (from tensorflow) (57.4.0)\n",
            "Requirement already satisfied: opt-einsum>=2.3.2 in /usr/local/lib/python3.8/dist-packages (from tensorflow) (3.3.0)\n",
            "Requirement already satisfied: astunparse>=1.6.0 in /usr/local/lib/python3.8/dist-packages (from tensorflow) (1.6.3)\n",
            "Requirement already satisfied: tensorflow-estimator<2.12,>=2.11.0 in /usr/local/lib/python3.8/dist-packages (from tensorflow) (2.11.0)\n",
            "Requirement already satisfied: numpy>=1.20 in /usr/local/lib/python3.8/dist-packages (from tensorflow) (1.22.4)\n",
            "Requirement already satisfied: packaging in /usr/local/lib/python3.8/dist-packages (from tensorflow) (23.0)\n",
            "Requirement already satisfied: protobuf<3.20,>=3.9.2 in /usr/local/lib/python3.8/dist-packages (from tensorflow) (3.19.6)\n",
            "Requirement already satisfied: six>=1.12.0 in /usr/local/lib/python3.8/dist-packages (from tensorflow) (1.15.0)\n",
            "Requirement already satisfied: typing-extensions>=3.6.6 in /usr/local/lib/python3.8/dist-packages (from tensorflow) (4.5.0)\n",
            "Requirement already satisfied: wrapt>=1.11.0 in /usr/local/lib/python3.8/dist-packages (from tensorflow) (1.14.1)\n",
            "Requirement already satisfied: gast<=0.4.0,>=0.2.1 in /usr/local/lib/python3.8/dist-packages (from tensorflow) (0.4.0)\n",
            "Requirement already satisfied: tensorboard<2.12,>=2.11 in /usr/local/lib/python3.8/dist-packages (from tensorflow) (2.11.2)\n",
            "Requirement already satisfied: keras<2.12,>=2.11.0 in /usr/local/lib/python3.8/dist-packages (from tensorflow) (2.11.0)\n",
            "Requirement already satisfied: tensorflow-io-gcs-filesystem>=0.23.1 in /usr/local/lib/python3.8/dist-packages (from tensorflow) (0.30.0)\n",
            "Requirement already satisfied: termcolor>=1.1.0 in /usr/local/lib/python3.8/dist-packages (from tensorflow) (2.2.0)\n",
            "Requirement already satisfied: absl-py>=1.0.0 in /usr/local/lib/python3.8/dist-packages (from tensorflow) (1.4.0)\n",
            "Requirement already satisfied: libclang>=13.0.0 in /usr/local/lib/python3.8/dist-packages (from tensorflow) (15.0.6.1)\n",
            "Requirement already satisfied: flatbuffers>=2.0 in /usr/local/lib/python3.8/dist-packages (from tensorflow) (23.1.21)\n",
            "Requirement already satisfied: wheel<1.0,>=0.23.0 in /usr/local/lib/python3.8/dist-packages (from astunparse>=1.6.0->tensorflow) (0.38.4)\n",
            "Requirement already satisfied: markdown>=2.6.8 in /usr/local/lib/python3.8/dist-packages (from tensorboard<2.12,>=2.11->tensorflow) (3.4.1)\n",
            "Requirement already satisfied: tensorboard-data-server<0.7.0,>=0.6.0 in /usr/local/lib/python3.8/dist-packages (from tensorboard<2.12,>=2.11->tensorflow) (0.6.1)\n",
            "Requirement already satisfied: tensorboard-plugin-wit>=1.6.0 in /usr/local/lib/python3.8/dist-packages (from tensorboard<2.12,>=2.11->tensorflow) (1.8.1)\n",
            "Requirement already satisfied: werkzeug>=1.0.1 in /usr/local/lib/python3.8/dist-packages (from tensorboard<2.12,>=2.11->tensorflow) (1.0.1)\n",
            "Requirement already satisfied: google-auth-oauthlib<0.5,>=0.4.1 in /usr/local/lib/python3.8/dist-packages (from tensorboard<2.12,>=2.11->tensorflow) (0.4.6)\n",
            "Requirement already satisfied: requests<3,>=2.21.0 in /usr/local/lib/python3.8/dist-packages (from tensorboard<2.12,>=2.11->tensorflow) (2.25.1)\n",
            "Requirement already satisfied: google-auth<3,>=1.6.3 in /usr/local/lib/python3.8/dist-packages (from tensorboard<2.12,>=2.11->tensorflow) (2.16.1)\n",
            "Requirement already satisfied: pyasn1-modules>=0.2.1 in /usr/local/lib/python3.8/dist-packages (from google-auth<3,>=1.6.3->tensorboard<2.12,>=2.11->tensorflow) (0.2.8)\n",
            "Requirement already satisfied: cachetools<6.0,>=2.0.0 in /usr/local/lib/python3.8/dist-packages (from google-auth<3,>=1.6.3->tensorboard<2.12,>=2.11->tensorflow) (5.3.0)\n",
            "Requirement already satisfied: rsa<5,>=3.1.4 in /usr/local/lib/python3.8/dist-packages (from google-auth<3,>=1.6.3->tensorboard<2.12,>=2.11->tensorflow) (4.9)\n",
            "Requirement already satisfied: requests-oauthlib>=0.7.0 in /usr/local/lib/python3.8/dist-packages (from google-auth-oauthlib<0.5,>=0.4.1->tensorboard<2.12,>=2.11->tensorflow) (1.3.1)\n",
            "Requirement already satisfied: importlib-metadata>=4.4 in /usr/local/lib/python3.8/dist-packages (from markdown>=2.6.8->tensorboard<2.12,>=2.11->tensorflow) (6.0.0)\n",
            "Requirement already satisfied: certifi>=2017.4.17 in /usr/local/lib/python3.8/dist-packages (from requests<3,>=2.21.0->tensorboard<2.12,>=2.11->tensorflow) (2022.12.7)\n",
            "Requirement already satisfied: urllib3<1.27,>=1.21.1 in /usr/local/lib/python3.8/dist-packages (from requests<3,>=2.21.0->tensorboard<2.12,>=2.11->tensorflow) (1.24.3)\n",
            "Requirement already satisfied: idna<3,>=2.5 in /usr/local/lib/python3.8/dist-packages (from requests<3,>=2.21.0->tensorboard<2.12,>=2.11->tensorflow) (2.10)\n",
            "Requirement already satisfied: chardet<5,>=3.0.2 in /usr/local/lib/python3.8/dist-packages (from requests<3,>=2.21.0->tensorboard<2.12,>=2.11->tensorflow) (4.0.0)\n",
            "Requirement already satisfied: zipp>=0.5 in /usr/local/lib/python3.8/dist-packages (from importlib-metadata>=4.4->markdown>=2.6.8->tensorboard<2.12,>=2.11->tensorflow) (3.14.0)\n",
            "Requirement already satisfied: pyasn1<0.5.0,>=0.4.6 in /usr/local/lib/python3.8/dist-packages (from pyasn1-modules>=0.2.1->google-auth<3,>=1.6.3->tensorboard<2.12,>=2.11->tensorflow) (0.4.8)\n",
            "Requirement already satisfied: oauthlib>=3.0.0 in /usr/local/lib/python3.8/dist-packages (from requests-oauthlib>=0.7.0->google-auth-oauthlib<0.5,>=0.4.1->tensorboard<2.12,>=2.11->tensorflow) (3.2.2)\n"
          ]
        }
      ]
    },
    {
      "cell_type": "code",
      "source": [
        "!pip install keras"
      ],
      "metadata": {
        "colab": {
          "base_uri": "https://localhost:8080/"
        },
        "id": "YTpEIBDyTzRy",
        "outputId": "2b1cc9a8-384b-47c5-865a-0068ef78fd5a"
      },
      "execution_count": null,
      "outputs": [
        {
          "output_type": "stream",
          "name": "stdout",
          "text": [
            "Looking in indexes: https://pypi.org/simple, https://us-python.pkg.dev/colab-wheels/public/simple/\n",
            "Requirement already satisfied: keras in /usr/local/lib/python3.8/dist-packages (2.11.0)\n"
          ]
        }
      ]
    },
    {
      "cell_type": "code",
      "source": [
        "!pip install ipython"
      ],
      "metadata": {
        "colab": {
          "base_uri": "https://localhost:8080/"
        },
        "id": "yJfb0T0KVuUA",
        "outputId": "1a7c19a6-ccc8-47ad-845e-347150f1a23d"
      },
      "execution_count": null,
      "outputs": [
        {
          "output_type": "stream",
          "name": "stdout",
          "text": [
            "Looking in indexes: https://pypi.org/simple, https://us-python.pkg.dev/colab-wheels/public/simple/\n",
            "Requirement already satisfied: ipython in /usr/local/lib/python3.8/dist-packages (7.9.0)\n",
            "Requirement already satisfied: pexpect in /usr/local/lib/python3.8/dist-packages (from ipython) (4.8.0)\n",
            "Collecting jedi>=0.10\n",
            "  Downloading jedi-0.18.2-py2.py3-none-any.whl (1.6 MB)\n",
            "\u001b[2K     \u001b[90m━━━━━━━━━━━━━━━━━━━━━━━━━━━━━━━━━━━━━━━━\u001b[0m \u001b[32m1.6/1.6 MB\u001b[0m \u001b[31m66.2 MB/s\u001b[0m eta \u001b[36m0:00:00\u001b[0m\n",
            "\u001b[?25hRequirement already satisfied: decorator in /usr/local/lib/python3.8/dist-packages (from ipython) (4.4.2)\n",
            "Requirement already satisfied: traitlets>=4.2 in /usr/local/lib/python3.8/dist-packages (from ipython) (5.7.1)\n",
            "Requirement already satisfied: setuptools>=18.5 in /usr/local/lib/python3.8/dist-packages (from ipython) (57.4.0)\n",
            "Requirement already satisfied: prompt-toolkit<2.1.0,>=2.0.0 in /usr/local/lib/python3.8/dist-packages (from ipython) (2.0.10)\n",
            "Requirement already satisfied: pygments in /usr/local/lib/python3.8/dist-packages (from ipython) (2.6.1)\n",
            "Requirement already satisfied: pickleshare in /usr/local/lib/python3.8/dist-packages (from ipython) (0.7.5)\n",
            "Requirement already satisfied: backcall in /usr/local/lib/python3.8/dist-packages (from ipython) (0.2.0)\n",
            "Requirement already satisfied: parso<0.9.0,>=0.8.0 in /usr/local/lib/python3.8/dist-packages (from jedi>=0.10->ipython) (0.8.3)\n",
            "Requirement already satisfied: six>=1.9.0 in /usr/local/lib/python3.8/dist-packages (from prompt-toolkit<2.1.0,>=2.0.0->ipython) (1.15.0)\n",
            "Requirement already satisfied: wcwidth in /usr/local/lib/python3.8/dist-packages (from prompt-toolkit<2.1.0,>=2.0.0->ipython) (0.2.6)\n",
            "Requirement already satisfied: ptyprocess>=0.5 in /usr/local/lib/python3.8/dist-packages (from pexpect->ipython) (0.7.0)\n",
            "Installing collected packages: jedi\n",
            "Successfully installed jedi-0.18.2\n"
          ]
        }
      ]
    },
    {
      "cell_type": "code",
      "source": [
        "!pip install livelossplot"
      ],
      "metadata": {
        "colab": {
          "base_uri": "https://localhost:8080/"
        },
        "id": "kqQwMZRtf4kl",
        "outputId": "4f49004a-ecbf-497d-fc25-96b56f14df6f"
      },
      "execution_count": null,
      "outputs": [
        {
          "output_type": "stream",
          "name": "stdout",
          "text": [
            "Looking in indexes: https://pypi.org/simple, https://us-python.pkg.dev/colab-wheels/public/simple/\n",
            "Requirement already satisfied: livelossplot in /usr/local/lib/python3.8/dist-packages (0.5.5)\n",
            "Requirement already satisfied: bokeh in /usr/local/lib/python3.8/dist-packages (from livelossplot) (2.3.3)\n",
            "Requirement already satisfied: matplotlib in /usr/local/lib/python3.8/dist-packages (from livelossplot) (3.5.3)\n",
            "Requirement already satisfied: python-dateutil>=2.1 in /usr/local/lib/python3.8/dist-packages (from bokeh->livelossplot) (2.8.2)\n",
            "Requirement already satisfied: PyYAML>=3.10 in /usr/local/lib/python3.8/dist-packages (from bokeh->livelossplot) (6.0)\n",
            "Requirement already satisfied: packaging>=16.8 in /usr/local/lib/python3.8/dist-packages (from bokeh->livelossplot) (23.0)\n",
            "Requirement already satisfied: tornado>=5.1 in /usr/local/lib/python3.8/dist-packages (from bokeh->livelossplot) (6.2)\n",
            "Requirement already satisfied: pillow>=7.1.0 in /usr/local/lib/python3.8/dist-packages (from bokeh->livelossplot) (7.1.2)\n",
            "Requirement already satisfied: Jinja2>=2.9 in /usr/local/lib/python3.8/dist-packages (from bokeh->livelossplot) (2.11.3)\n",
            "Requirement already satisfied: numpy>=1.11.3 in /usr/local/lib/python3.8/dist-packages (from bokeh->livelossplot) (1.22.4)\n",
            "Requirement already satisfied: typing-extensions>=3.7.4 in /usr/local/lib/python3.8/dist-packages (from bokeh->livelossplot) (4.5.0)\n",
            "Requirement already satisfied: kiwisolver>=1.0.1 in /usr/local/lib/python3.8/dist-packages (from matplotlib->livelossplot) (1.4.4)\n",
            "Requirement already satisfied: pyparsing>=2.2.1 in /usr/local/lib/python3.8/dist-packages (from matplotlib->livelossplot) (3.0.9)\n",
            "Requirement already satisfied: cycler>=0.10 in /usr/local/lib/python3.8/dist-packages (from matplotlib->livelossplot) (0.11.0)\n",
            "Requirement already satisfied: fonttools>=4.22.0 in /usr/local/lib/python3.8/dist-packages (from matplotlib->livelossplot) (4.38.0)\n",
            "Requirement already satisfied: MarkupSafe>=0.23 in /usr/local/lib/python3.8/dist-packages (from Jinja2>=2.9->bokeh->livelossplot) (2.0.1)\n",
            "Requirement already satisfied: six>=1.5 in /usr/local/lib/python3.8/dist-packages (from python-dateutil>=2.1->bokeh->livelossplot) (1.15.0)\n"
          ]
        }
      ]
    },
    {
      "cell_type": "code",
      "source": [
        "from keras.models import Sequential\n",
        "from keras.layers import Dense,Dropout\n",
        "from keras.utils import to_categorical,plot_model\n",
        "from keras.datasets import mnist\n",
        "from keras.utils.vis_utils import model_to_dot\n",
        "from IPython.display import SVG "
      ],
      "metadata": {
        "id": "aRUc233FUOZC"
      },
      "execution_count": null,
      "outputs": []
    },
    {
      "cell_type": "code",
      "source": [
        "import numpy as np"
      ],
      "metadata": {
        "id": "oBde-NQQVkSR"
      },
      "execution_count": null,
      "outputs": []
    },
    {
      "cell_type": "code",
      "source": [
        "import livelossplot\n",
        "plot_losses=livelossplot.PlotLossesKeras()\n",
        "\n",
        "%matplotlib inline \n",
        "\n",
        "NUM_ROWS=28\n",
        "NUM_COLS=28\n",
        "NUM_CLASSES=10\n",
        "BATCH_SIZE=128\n",
        "EPOCHS=10"
      ],
      "metadata": {
        "id": "-SZ0f3y7WXeE"
      },
      "execution_count": null,
      "outputs": []
    },
    {
      "cell_type": "code",
      "source": [
        "def data_summary(X_train,y_train,X_test,y_test):\n",
        "  '''Summarize current state of dataset'''\n",
        "  print('Train images shape :',X_train.shape)\n",
        "  print('Train labels shape :',y_train.shape)\n",
        "  print('Test images shape :',X_test.shape)\n",
        "  print('Test labels shape :',y_test.shape)\n",
        "  print('Train labels :',y_train)\n",
        "  print('Test labels :',y_test)"
      ],
      "metadata": {
        "id": "gcDYD4ocX1LI"
      },
      "execution_count": null,
      "outputs": []
    },
    {
      "cell_type": "code",
      "source": [
        "# Load data\n",
        "(X_train,y_train),(X_test,y_test)=mnist.load_data()\n",
        "\n",
        "# Check state of dataset\n",
        "data_summary(X_train,y_train,X_test,y_test)"
      ],
      "metadata": {
        "colab": {
          "base_uri": "https://localhost:8080/"
        },
        "id": "UtavVHKQZCN-",
        "outputId": "69ab18f4-6f35-4b02-aed5-17dab8b7f2d0"
      },
      "execution_count": null,
      "outputs": [
        {
          "output_type": "stream",
          "name": "stdout",
          "text": [
            "Downloading data from https://storage.googleapis.com/tensorflow/tf-keras-datasets/mnist.npz\n",
            "11490434/11490434 [==============================] - 2s 0us/step\n",
            "Train images shape : (60000, 28, 28)\n",
            "Train labels shape : (60000,)\n",
            "Test images shape : (10000, 28, 28)\n",
            "Test labels shape : (10000,)\n",
            "Train labels : [5 0 4 ... 5 6 8]\n",
            "Test labels : [7 2 1 ... 4 5 6]\n"
          ]
        }
      ]
    },
    {
      "cell_type": "code",
      "source": [
        "# Reshape data\n",
        "X_train=X_train.reshape(X_train.shape[0],NUM_ROWS * NUM_COLS)\n",
        "X_train=X_train.astype('float32')/255\n",
        "X_test=X_test.reshape(X_test.shape[0],NUM_ROWS * NUM_COLS)\n",
        "X_test=X_test.astype('float32')/255"
      ],
      "metadata": {
        "id": "Bimc0KaaZqN3"
      },
      "execution_count": null,
      "outputs": []
    },
    {
      "cell_type": "code",
      "source": [
        "# Categorically encode labels\n",
        "y_train=to_categorical(y_train,NUM_CLASSES)\n",
        "y_test=to_categorical(y_test,NUM_CLASSES)"
      ],
      "metadata": {
        "id": "6Aj8iKITas61"
      },
      "execution_count": null,
      "outputs": []
    },
    {
      "cell_type": "code",
      "source": [
        "# Check the dataset\n",
        "data_summary(X_train,y_train,X_test,y_test)"
      ],
      "metadata": {
        "colab": {
          "base_uri": "https://localhost:8080/"
        },
        "id": "BlgBK0s-bX3L",
        "outputId": "be9ab794-f31a-4f1b-f9a2-9a307eaf84bb"
      },
      "execution_count": null,
      "outputs": [
        {
          "output_type": "stream",
          "name": "stdout",
          "text": [
            "Train images shape : (60000, 784)\n",
            "Train labels shape : (60000, 10)\n",
            "Test images shape : (10000, 784)\n",
            "Test labels shape : (10000, 10)\n",
            "Train labels : [[0. 0. 0. ... 0. 0. 0.]\n",
            " [1. 0. 0. ... 0. 0. 0.]\n",
            " [0. 0. 0. ... 0. 0. 0.]\n",
            " ...\n",
            " [0. 0. 0. ... 0. 0. 0.]\n",
            " [0. 0. 0. ... 0. 0. 0.]\n",
            " [0. 0. 0. ... 0. 1. 0.]]\n",
            "Test labels : [[0. 0. 0. ... 1. 0. 0.]\n",
            " [0. 0. 1. ... 0. 0. 0.]\n",
            " [0. 1. 0. ... 0. 0. 0.]\n",
            " ...\n",
            " [0. 0. 0. ... 0. 0. 0.]\n",
            " [0. 0. 0. ... 0. 0. 0.]\n",
            " [0. 0. 0. ... 0. 0. 0.]]\n"
          ]
        }
      ]
    },
    {
      "cell_type": "code",
      "source": [
        "# Build neural networks\n",
        "model=Sequential()\n",
        "\n",
        "model.add(Dense(512,activation='relu',input_shape=(NUM_ROWS * NUM_COLS,)))\n",
        "model.add(Dropout(0.5))\n",
        "model.add(Dense(256,activation='relu'))\n",
        "model.add(Dropout(0.25))\n",
        "model.add(Dense(10,activation='softmax'))"
      ],
      "metadata": {
        "id": "-u9i0c4hbjpr"
      },
      "execution_count": null,
      "outputs": []
    },
    {
      "cell_type": "code",
      "source": [
        "# Compile model\n",
        "model.compile(optimizer= \"rmsprop\", loss='categorical_crossentropy', metrics=['accuracy'])\n",
        "\n",
        "# Train the model\n",
        "model.fit(X_train, y_train, batch_size=BATCH_SIZE, \n",
        "          epochs=EPOCHS, \n",
        "          verbose=1, \n",
        "          callbacks=[plot_losses], \n",
        "          validation_data=(X_test, y_test))\n",
        "\n",
        "score=model.evaluate(X_test, y_test,verbose=0)\n",
        "print('Test loss :',score[0])\n",
        "print('Test accuracy :',score[1])"
      ],
      "metadata": {
        "colab": {
          "base_uri": "https://localhost:8080/",
          "height": 741
        },
        "id": "7JaIstywdGDw",
        "outputId": "6bc0f45a-d856-4fd7-f7eb-6d4a1fc896b2"
      },
      "execution_count": null,
      "outputs": [
        {
          "output_type": "display_data",
          "data": {
            "text/plain": [
              "<Figure size 864x576 with 2 Axes>"
            ],
            "image/png": "[encoded data removed]"
          },
          "metadata": {
            "needs_background": "light"
          }
        },
        {
          "output_type": "stream",
          "name": "stdout",
          "text": [
            "accuracy\n",
            "\ttraining         \t (min:    0.899, max:    0.982, cur:    0.982)\n",
            "\tvalidation       \t (min:    0.961, max:    0.983, cur:    0.982)\n",
            "Loss\n",
            "\ttraining         \t (min:    0.061, max:    0.330, cur:    0.061)\n",
            "\tvalidation       \t (min:    0.063, max:    0.125, cur:    0.066)\n",
            "\b\b\b\b\b\b\b\b\b\b\b\b\b\b\b\b\b\b\b\b\b\b\b\b\b\b\b\b\b\b\b\b\b\b\b\b\b\b\b\b\b\b\b\b\b\b\b\b\b\b\b\b\b\b\b\b\b\b\b\b\b\b\b\b\b\b\b\b\b\b\b\b\b\b\b\b\b\b\b\b\b\b\b\b\r469/469 [==============================] - 3s 6ms/step - loss: 0.0611 - accuracy: 0.9819 - val_loss: 0.0665 - val_accuracy: 0.9824\n",
            "Test loss : 0.06647390872240067\n",
            "Test accuracy : 0.9824000000953674\n"
          ]
        }
      ]
    },
    {
      "cell_type": "code",
      "source": [
        "model.summary()"
      ],
      "metadata": {
        "colab": {
          "base_uri": "https://localhost:8080/"
        },
        "id": "mqEyKDjRfI-r",
        "outputId": "d64d06a2-3474-441d-f7d5-c7668db5abcd"
      },
      "execution_count": null,
      "outputs": [
        {
          "output_type": "stream",
          "name": "stdout",
          "text": [
            "Model: \"sequential_1\"\n",
            "_________________________________________________________________\n",
            " Layer (type)                Output Shape              Param #   \n",
            "=================================================================\n",
            " dense_1 (Dense)             (None, 512)               401920    \n",
            "                                                                 \n",
            " dropout (Dropout)           (None, 512)               0         \n",
            "                                                                 \n",
            " dense_2 (Dense)             (None, 256)               131328    \n",
            "                                                                 \n",
            " dropout_1 (Dropout)         (None, 256)               0         \n",
            "                                                                 \n",
            " dense_3 (Dense)             (None, 10)                2570      \n",
            "                                                                 \n",
            "=================================================================\n",
            "Total params: 535,818\n",
            "Trainable params: 535,818\n",
            "Non-trainable params: 0\n",
            "_________________________________________________________________\n"
          ]
        }
      ]
    },
    {
      "cell_type": "code",
      "source": [
        "m=model.keys()\n",
        "print(m)\n",
        "\n",
        "plt.plot(m['accuracy'])\n",
        "plt.plot(m['validation_accuracy'])\n",
        "plt.show()"
      ],
      "metadata": {
        "id": "RXUtc7Jg7xYg"
      },
      "execution_count": null,
      "outputs": []
    },
    {
      "cell_type": "code",
      "source": [
        "# Output network visualization\n",
        "SVG(model_to_dot(model).create(prog='dot',format='svg'))"
      ],
      "metadata": {
        "colab": {
          "base_uri": "https://localhost:8080/",
          "height": 751
        },
        "id": "cbysz6-QfLPO",
        "outputId": "2f18cf19-1339-4504-9df5-8d0a561ab571"
      },
      "execution_count": null,
      "outputs": [
        {
          "output_type": "execute_result",
          "data": {
            "text/plain": [
              "<IPython.core.display.SVG object>"
            ],
            "image/svg+xml": "<svg xmlns=\"http://www.w3.org/2000/svg\" xmlns:xlink=\"http://www.w3.org/1999/xlink\" width=\"240pt\" height=\"547pt\" viewBox=\"0.00 0.00 180.00 410.00\">\n<g id=\"graph0\" class=\"graph\" transform=\"scale(0.75 0.75) rotate(0) translate(4 406)\">\n<title>G</title>\n<polygon fill=\"white\" stroke=\"transparent\" points=\"-4,4 -4,-406 176,-406 176,4 -4,4\"/>\n<!-- 140253590829184 -->\n<g id=\"node1\" class=\"node\">\n<title>140253590829184</title>\n<polygon fill=\"none\" stroke=\"black\" points=\"0,-365.5 0,-401.5 172,-401.5 172,-365.5 0,-365.5\"/>\n<text text-anchor=\"middle\" x=\"47.5\" y=\"-379.8\" font-family=\"Times,serif\" font-size=\"14.00\">dense_1_input</text>\n<polyline fill=\"none\" stroke=\"black\" points=\"95,-365.5 95,-401.5 \"/>\n<text text-anchor=\"middle\" x=\"133.5\" y=\"-379.8\" font-family=\"Times,serif\" font-size=\"14.00\">InputLayer</text>\n</g>\n<!-- 140253590696960 -->\n<g id=\"node2\" class=\"node\">\n<title>140253590696960</title>\n<polygon fill=\"none\" stroke=\"black\" points=\"30.5,-292.5 30.5,-328.5 141.5,-328.5 141.5,-292.5 30.5,-292.5\"/>\n<text text-anchor=\"middle\" x=\"61\" y=\"-306.8\" font-family=\"Times,serif\" font-size=\"14.00\">dense_1</text>\n<polyline fill=\"none\" stroke=\"black\" points=\"91.5,-292.5 91.5,-328.5 \"/>\n<text text-anchor=\"middle\" x=\"116.5\" y=\"-306.8\" font-family=\"Times,serif\" font-size=\"14.00\">Dense</text>\n</g>\n<!-- 140253590829184&#45;&gt;140253590696960 -->\n<g id=\"edge1\" class=\"edge\">\n<title>140253590829184-&gt;140253590696960</title>\n<path fill=\"none\" stroke=\"black\" d=\"M86,-365.31C86,-357.29 86,-347.55 86,-338.57\"/>\n<polygon fill=\"black\" stroke=\"black\" points=\"89.5,-338.53 86,-328.53 82.5,-338.53 89.5,-338.53\"/>\n</g>\n<!-- 140253590696336 -->\n<g id=\"node3\" class=\"node\">\n<title>140253590696336</title>\n<polygon fill=\"none\" stroke=\"black\" points=\"25.5,-219.5 25.5,-255.5 146.5,-255.5 146.5,-219.5 25.5,-219.5\"/>\n<text text-anchor=\"middle\" x=\"55\" y=\"-233.8\" font-family=\"Times,serif\" font-size=\"14.00\">dropout</text>\n<polyline fill=\"none\" stroke=\"black\" points=\"84.5,-219.5 84.5,-255.5 \"/>\n<text text-anchor=\"middle\" x=\"115.5\" y=\"-233.8\" font-family=\"Times,serif\" font-size=\"14.00\">Dropout</text>\n</g>\n<!-- 140253590696960&#45;&gt;140253590696336 -->\n<g id=\"edge2\" class=\"edge\">\n<title>140253590696960-&gt;140253590696336</title>\n<path fill=\"none\" stroke=\"black\" d=\"M86,-292.31C86,-284.29 86,-274.55 86,-265.57\"/>\n<polygon fill=\"black\" stroke=\"black\" points=\"89.5,-265.53 86,-255.53 82.5,-265.53 89.5,-265.53\"/>\n</g>\n<!-- 140253589875632 -->\n<g id=\"node4\" class=\"node\">\n<title>140253589875632</title>\n<polygon fill=\"none\" stroke=\"black\" points=\"30.5,-146.5 30.5,-182.5 141.5,-182.5 141.5,-146.5 30.5,-146.5\"/>\n<text text-anchor=\"middle\" x=\"61\" y=\"-160.8\" font-family=\"Times,serif\" font-size=\"14.00\">dense_2</text>\n<polyline fill=\"none\" stroke=\"black\" points=\"91.5,-146.5 91.5,-182.5 \"/>\n<text text-anchor=\"middle\" x=\"116.5\" y=\"-160.8\" font-family=\"Times,serif\" font-size=\"14.00\">Dense</text>\n</g>\n<!-- 140253590696336&#45;&gt;140253589875632 -->\n<g id=\"edge3\" class=\"edge\">\n<title>140253590696336-&gt;140253589875632</title>\n<path fill=\"none\" stroke=\"black\" d=\"M86,-219.31C86,-211.29 86,-201.55 86,-192.57\"/>\n<polygon fill=\"black\" stroke=\"black\" points=\"89.5,-192.53 86,-182.53 82.5,-192.53 89.5,-192.53\"/>\n</g>\n<!-- 140253589875872 -->\n<g id=\"node5\" class=\"node\">\n<title>140253589875872</title>\n<polygon fill=\"none\" stroke=\"black\" points=\"19,-73.5 19,-109.5 153,-109.5 153,-73.5 19,-73.5\"/>\n<text text-anchor=\"middle\" x=\"55\" y=\"-87.8\" font-family=\"Times,serif\" font-size=\"14.00\">dropout_1</text>\n<polyline fill=\"none\" stroke=\"black\" points=\"91,-73.5 91,-109.5 \"/>\n<text text-anchor=\"middle\" x=\"122\" y=\"-87.8\" font-family=\"Times,serif\" font-size=\"14.00\">Dropout</text>\n</g>\n<!-- 140253589875632&#45;&gt;140253589875872 -->\n<g id=\"edge4\" class=\"edge\">\n<title>140253589875632-&gt;140253589875872</title>\n<path fill=\"none\" stroke=\"black\" d=\"M86,-146.31C86,-138.29 86,-128.55 86,-119.57\"/>\n<polygon fill=\"black\" stroke=\"black\" points=\"89.5,-119.53 86,-109.53 82.5,-119.53 89.5,-119.53\"/>\n</g>\n<!-- 140253186813904 -->\n<g id=\"node6\" class=\"node\">\n<title>140253186813904</title>\n<polygon fill=\"none\" stroke=\"black\" points=\"30.5,-0.5 30.5,-36.5 141.5,-36.5 141.5,-0.5 30.5,-0.5\"/>\n<text text-anchor=\"middle\" x=\"61\" y=\"-14.8\" font-family=\"Times,serif\" font-size=\"14.00\">dense_3</text>\n<polyline fill=\"none\" stroke=\"black\" points=\"91.5,-0.5 91.5,-36.5 \"/>\n<text text-anchor=\"middle\" x=\"116.5\" y=\"-14.8\" font-family=\"Times,serif\" font-size=\"14.00\">Dense</text>\n</g>\n<!-- 140253589875872&#45;&gt;140253186813904 -->\n<g id=\"edge5\" class=\"edge\">\n<title>140253589875872-&gt;140253186813904</title>\n<path fill=\"none\" stroke=\"black\" d=\"M86,-73.31C86,-65.29 86,-55.55 86,-46.57\"/>\n<polygon fill=\"black\" stroke=\"black\" points=\"89.5,-46.53 86,-36.53 82.5,-46.53 89.5,-46.53\"/>\n</g>\n</g>\n</svg>"
          },
          "metadata": {},
          "execution_count": 24
        }
      ]
    },
    {
      "cell_type": "code",
      "source": [
        "# Prediction\n",
        "prediction=model.predict_classes(X_test,y_test)\n",
        "prediction[100]"
      ],
      "metadata": {
        "id": "pj4XixzG8pAC"
      },
      "execution_count": null,
      "outputs": []
    },
    {
      "cell_type": "markdown",
      "source": [
        "### Prediction\n",
        "\n",
        "https://stackoverflow.com/questions/68836551/keras-attributeerror-sequential-object-has-no-attribute-predict-classes"
      ],
      "metadata": {
        "id": "mInVwQnKV64W"
      }
    },
    {
      "cell_type": "markdown",
      "source": [
        "### Keras Functional Composition\n",
        "- Functional composition models are created via the functional API.\n",
        "- Functional composition makes it possible to create complex models, such as acylic graphs, or multi-output models."
      ],
      "metadata": {
        "id": "QCEYY1e7hFKt"
      }
    },
    {
      "cell_type": "code",
      "source": [
        "import pandas as pd\n",
        "import numpy as np\n",
        "np.random.seed(1212)\n",
        "import keras\n",
        "from keras.models import Model\n",
        "from keras.layers import Input\n",
        "from keras.utils import to_categorical,plot_model\n",
        "from keras.layers import *\n",
        "from keras import optimizers"
      ],
      "metadata": {
        "id": "ZcrM5lJwhKtd"
      },
      "execution_count": null,
      "outputs": []
    },
    {
      "cell_type": "code",
      "source": [
        "def data_summary(X_train,y_train,X_test,y_test):\n",
        "  '''Summarize current state of dataset'''\n",
        "  print('Train images shape :',X_train.shape)\n",
        "  print('Train labels shape :',y_train.shape)\n",
        "  print('Test images shape :',X_test.shape)\n",
        "  print('Test labels shape :',y_test.shape)\n",
        "  print('Train labels :',y_train)\n",
        "  print('Test labels :',y_test)"
      ],
      "metadata": {
        "id": "MFbxB7xsnNnu"
      },
      "execution_count": null,
      "outputs": []
    },
    {
      "cell_type": "code",
      "source": [
        "# Load data\n",
        "(X_train,y_train),(X_test,y_test)=mnist.load_data()\n",
        "\n",
        "# Check state of dataset\n",
        "data_summary(X_train,y_train,X_test,y_test)"
      ],
      "metadata": {
        "colab": {
          "base_uri": "https://localhost:8080/"
        },
        "id": "NozdRAzdnIdd",
        "outputId": "7c585d33-4ffe-4efc-bdd5-7167060bda47"
      },
      "execution_count": null,
      "outputs": [
        {
          "output_type": "stream",
          "name": "stdout",
          "text": [
            "Train images shape : (60000, 28, 28)\n",
            "Train labels shape : (60000,)\n",
            "Test images shape : (10000, 28, 28)\n",
            "Test labels shape : (10000,)\n",
            "Train labels : [5 0 4 ... 5 6 8]\n",
            "Test labels : [7 2 1 ... 4 5 6]\n"
          ]
        }
      ]
    },
    {
      "cell_type": "code",
      "source": [
        "# Reshape data\n",
        "NUM_ROWS=28\n",
        "NUM_COLS=28\n",
        "NUM_CLASSES=10\n",
        "\n",
        "X_train=X_train.reshape(X_train.shape[0],NUM_ROWS * NUM_COLS)\n",
        "X_train=X_train.astype('float32')/255\n",
        "X_test=X_test.reshape(X_test.shape[0],NUM_ROWS * NUM_COLS)\n",
        "X_test=X_test.astype('float32')/255"
      ],
      "metadata": {
        "id": "7priRwP0nWPV"
      },
      "execution_count": null,
      "outputs": []
    },
    {
      "cell_type": "code",
      "source": [
        "# Categorically encode labels\n",
        "y_train=to_categorical(y_train,NUM_CLASSES)\n",
        "y_test=to_categorical(y_test,NUM_CLASSES)"
      ],
      "metadata": {
        "id": "efKVoMrsndYQ"
      },
      "execution_count": null,
      "outputs": []
    },
    {
      "cell_type": "code",
      "source": [
        "# Check the dataset\n",
        "data_summary(X_train,y_train,X_test,y_test)"
      ],
      "metadata": {
        "colab": {
          "base_uri": "https://localhost:8080/"
        },
        "id": "3IHihQwynmMh",
        "outputId": "93a455a5-ce17-4db8-8872-12e3173f3e53"
      },
      "execution_count": null,
      "outputs": [
        {
          "output_type": "stream",
          "name": "stdout",
          "text": [
            "Train images shape : (60000, 784)\n",
            "Train labels shape : (60000, 10)\n",
            "Test images shape : (10000, 784)\n",
            "Test labels shape : (10000, 10)\n",
            "Train labels : [[0. 0. 0. ... 0. 0. 0.]\n",
            " [1. 0. 0. ... 0. 0. 0.]\n",
            " [0. 0. 0. ... 0. 0. 0.]\n",
            " ...\n",
            " [0. 0. 0. ... 0. 0. 0.]\n",
            " [0. 0. 0. ... 0. 0. 0.]\n",
            " [0. 0. 0. ... 0. 1. 0.]]\n",
            "Test labels : [[0. 0. 0. ... 1. 0. 0.]\n",
            " [0. 0. 1. ... 0. 0. 0.]\n",
            " [0. 1. 0. ... 0. 0. 0.]\n",
            " ...\n",
            " [0. 0. 0. ... 0. 0. 0.]\n",
            " [0. 0. 0. ... 0. 0. 0.]\n",
            " [0. 0. 0. ... 0. 0. 0.]]\n"
          ]
        }
      ]
    },
    {
      "cell_type": "code",
      "source": [
        "# Input parameters\n",
        "n_input=784 # number of features\n",
        "n_hidden_1=300\n",
        "n_hidden_2=100\n",
        "n_hidden_3=100\n",
        "n_hidden_4=200\n",
        "num_digits=10"
      ],
      "metadata": {
        "id": "lRNjuM34htr3"
      },
      "execution_count": null,
      "outputs": []
    },
    {
      "cell_type": "code",
      "source": [
        "# Model 1\n",
        "from os import name\n",
        "Inp=Input(shape=(784,))  # input layer\n",
        "x=Dense(n_hidden_1,activation='relu',name='Hidden_Layer_1')(Inp)\n",
        "x=Dense(n_hidden_2,activation='relu',name='Hidden_Layer_2')(x)\n",
        "x=Dense(n_hidden_3,activation='relu',name='Hidden_Layer_3')(x)\n",
        "x=Dense(n_hidden_4,activation='relu',name='Hidden_Layer_4')(x)\n",
        "output=Dense(num_digits,activation='softmax',name='Output_Layer')(x)"
      ],
      "metadata": {
        "id": "kx0LIaGojReY"
      },
      "execution_count": null,
      "outputs": []
    },
    {
      "cell_type": "code",
      "source": [
        "# Our model would have 6 layers - input layer, 4 hidden layers and output layer\n",
        "model=Model(Inp,output)\n",
        "model.summary()"
      ],
      "metadata": {
        "colab": {
          "base_uri": "https://localhost:8080/"
        },
        "id": "95Va1uFVk8Ap",
        "outputId": "71e3a57c-e5ef-4c0d-d20e-dc1d715782da"
      },
      "execution_count": null,
      "outputs": [
        {
          "output_type": "stream",
          "name": "stdout",
          "text": [
            "Model: \"model_1\"\n",
            "_________________________________________________________________\n",
            " Layer (type)                Output Shape              Param #   \n",
            "=================================================================\n",
            " input_2 (InputLayer)        [(None, 784)]             0         \n",
            "                                                                 \n",
            " Hidden_Layer_1 (Dense)      (None, 300)               235500    \n",
            "                                                                 \n",
            " Hidden_Layer_2 (Dense)      (None, 100)               30100     \n",
            "                                                                 \n",
            " Hidden_Layer_3 (Dense)      (None, 100)               10100     \n",
            "                                                                 \n",
            " Hidden_Layer_4 (Dense)      (None, 200)               20200     \n",
            "                                                                 \n",
            " Output_Layer (Dense)        (None, 10)                2010      \n",
            "                                                                 \n",
            "=================================================================\n",
            "Total params: 297,910\n",
            "Trainable params: 297,910\n",
            "Non-trainable params: 0\n",
            "_________________________________________________________________\n"
          ]
        }
      ]
    },
    {
      "cell_type": "code",
      "source": [
        "# Output network visualization\n",
        "plot_model(model)"
      ],
      "metadata": {
        "colab": {
          "base_uri": "https://localhost:8080/",
          "height": 564
        },
        "id": "xZn4RPyxvsXT",
        "outputId": "1c997bb3-99cf-4f72-b90d-5262268e05d4"
      },
      "execution_count": null,
      "outputs": [
        {
          "output_type": "execute_result",
          "data": {
            "image/png": "[encoded data removed]",
            "text/plain": [
              "<IPython.core.display.Image object>"
            ]
          },
          "metadata": {},
          "execution_count": 58
        }
      ]
    },
    {
      "cell_type": "code",
      "source": [
        "# Insert hyperparameter\n",
        "learning_rate=0.1\n",
        "epochs=20\n",
        "batch_size=100\n",
        "sgd=optimizers.SGD(lr=learning_rate)"
      ],
      "metadata": {
        "id": "sX81nt2Vl8de"
      },
      "execution_count": null,
      "outputs": []
    },
    {
      "cell_type": "code",
      "source": [
        "# Compile model\n",
        "model.compile(optimizer= \"sgd\", loss='categorical_crossentropy', metrics=['accuracy'])"
      ],
      "metadata": {
        "id": "DjsgYHrhoAur"
      },
      "execution_count": null,
      "outputs": []
    },
    {
      "cell_type": "code",
      "source": [
        "# Model 1\n",
        "histort1=model.fit(X_train, y_train, batch_size=batch_size, \n",
        "          epochs=epochs, \n",
        "          verbose=2, \n",
        "          validation_data=(X_test, y_test))"
      ],
      "metadata": {
        "colab": {
          "base_uri": "https://localhost:8080/"
        },
        "id": "ogaT_327mhp_",
        "outputId": "18b8ff74-860e-47d5-bd68-11daa8b3daa6"
      },
      "execution_count": null,
      "outputs": [
        {
          "output_type": "stream",
          "name": "stdout",
          "text": [
            "Epoch 1/20\n",
            "600/600 - 3s - loss: 1.2662 - accuracy: 0.6758 - val_loss: 0.4813 - val_accuracy: 0.8664 - 3s/epoch - 5ms/step\n",
            "Epoch 2/20\n",
            "600/600 - 2s - loss: 0.3975 - accuracy: 0.8871 - val_loss: 0.3150 - val_accuracy: 0.9075 - 2s/epoch - 3ms/step\n",
            "Epoch 3/20\n",
            "600/600 - 2s - loss: 0.3046 - accuracy: 0.9125 - val_loss: 0.2654 - val_accuracy: 0.9232 - 2s/epoch - 4ms/step\n",
            "Epoch 4/20\n",
            "600/600 - 2s - loss: 0.2614 - accuracy: 0.9244 - val_loss: 0.2310 - val_accuracy: 0.9322 - 2s/epoch - 3ms/step\n",
            "Epoch 5/20\n",
            "600/600 - 2s - loss: 0.2310 - accuracy: 0.9328 - val_loss: 0.2233 - val_accuracy: 0.9325 - 2s/epoch - 3ms/step\n",
            "Epoch 6/20\n",
            "600/600 - 2s - loss: 0.2083 - accuracy: 0.9389 - val_loss: 0.1942 - val_accuracy: 0.9419 - 2s/epoch - 3ms/step\n",
            "Epoch 7/20\n",
            "600/600 - 2s - loss: 0.1893 - accuracy: 0.9460 - val_loss: 0.1810 - val_accuracy: 0.9467 - 2s/epoch - 3ms/step\n",
            "Epoch 8/20\n",
            "600/600 - 2s - loss: 0.1737 - accuracy: 0.9496 - val_loss: 0.1672 - val_accuracy: 0.9505 - 2s/epoch - 3ms/step\n",
            "Epoch 9/20\n",
            "600/600 - 2s - loss: 0.1600 - accuracy: 0.9541 - val_loss: 0.1523 - val_accuracy: 0.9541 - 2s/epoch - 3ms/step\n",
            "Epoch 10/20\n",
            "600/600 - 2s - loss: 0.1482 - accuracy: 0.9567 - val_loss: 0.1469 - val_accuracy: 0.9574 - 2s/epoch - 4ms/step\n",
            "Epoch 11/20\n",
            "600/600 - 2s - loss: 0.1375 - accuracy: 0.9600 - val_loss: 0.1376 - val_accuracy: 0.9595 - 2s/epoch - 3ms/step\n",
            "Epoch 12/20\n",
            "600/600 - 2s - loss: 0.1284 - accuracy: 0.9632 - val_loss: 0.1328 - val_accuracy: 0.9600 - 2s/epoch - 3ms/step\n",
            "Epoch 13/20\n",
            "600/600 - 2s - loss: 0.1199 - accuracy: 0.9655 - val_loss: 0.1245 - val_accuracy: 0.9629 - 2s/epoch - 3ms/step\n",
            "Epoch 14/20\n",
            "600/600 - 2s - loss: 0.1122 - accuracy: 0.9676 - val_loss: 0.1164 - val_accuracy: 0.9640 - 2s/epoch - 3ms/step\n",
            "Epoch 15/20\n",
            "600/600 - 2s - loss: 0.1054 - accuracy: 0.9696 - val_loss: 0.1147 - val_accuracy: 0.9659 - 2s/epoch - 3ms/step\n",
            "Epoch 16/20\n",
            "600/600 - 2s - loss: 0.0985 - accuracy: 0.9721 - val_loss: 0.1113 - val_accuracy: 0.9647 - 2s/epoch - 3ms/step\n",
            "Epoch 17/20\n",
            "600/600 - 2s - loss: 0.0930 - accuracy: 0.9733 - val_loss: 0.1103 - val_accuracy: 0.9665 - 2s/epoch - 4ms/step\n",
            "Epoch 18/20\n",
            "600/600 - 2s - loss: 0.0880 - accuracy: 0.9753 - val_loss: 0.1026 - val_accuracy: 0.9685 - 2s/epoch - 3ms/step\n",
            "Epoch 19/20\n",
            "600/600 - 2s - loss: 0.0830 - accuracy: 0.9760 - val_loss: 0.1025 - val_accuracy: 0.9681 - 2s/epoch - 3ms/step\n",
            "Epoch 20/20\n",
            "600/600 - 2s - loss: 0.0781 - accuracy: 0.9780 - val_loss: 0.0970 - val_accuracy: 0.9704 - 2s/epoch - 3ms/step\n"
          ]
        }
      ]
    },
    {
      "cell_type": "code",
      "source": [
        "# Model 2\n",
        "Inp=Input(shape=(784,))  # input layer\n",
        "x=Dense(n_hidden_1,activation='relu',name='Hidden_Layer_1')(Inp)\n",
        "x=Dense(n_hidden_2,activation='relu',name='Hidden_Layer_2')(x)\n",
        "x=Dense(n_hidden_3,activation='relu',name='Hidden_Layer_3')(x)\n",
        "x=Dense(n_hidden_4,activation='relu',name='Hidden_Layer_4')(x)\n",
        "output=Dense(num_digits,activation='softmax',name='Output_Layer')(x)\n",
        "\n",
        "#  We rely on Adam optimizer\n",
        "adam=keras.optimizers.Adam(lr=learning_rate)\n",
        "model2=Model(Inp,output)\n",
        "\n",
        "# Compile Model 2\n",
        "model2.compile(optimizer= \"adam\", loss='categorical_crossentropy', metrics=['accuracy'])"
      ],
      "metadata": {
        "colab": {
          "base_uri": "https://localhost:8080/"
        },
        "id": "nt1LayrTojef",
        "outputId": "de4f1466-f10b-410a-c182-3b54e0dfed37"
      },
      "execution_count": null,
      "outputs": [
        {
          "output_type": "stream",
          "name": "stderr",
          "text": [
            "/usr/local/lib/python3.8/dist-packages/keras/optimizers/optimizer_v2/adam.py:117: UserWarning: The `lr` argument is deprecated, use `learning_rate` instead.\n",
            "  super().__init__(name, **kwargs)\n"
          ]
        }
      ]
    },
    {
      "cell_type": "code",
      "source": [
        "# Model 2\n",
        "histort2=model2.fit(X_train, y_train, batch_size=batch_size, \n",
        "          epochs=epochs, \n",
        "          verbose=2, \n",
        "          validation_data=(X_test, y_test))"
      ],
      "metadata": {
        "colab": {
          "base_uri": "https://localhost:8080/"
        },
        "id": "mRWwhQB2ppnh",
        "outputId": "631b6e57-d2a2-4ebe-c30b-bb9eaf90b721"
      },
      "execution_count": null,
      "outputs": [
        {
          "output_type": "stream",
          "name": "stdout",
          "text": [
            "Epoch 1/20\n",
            "600/600 - 4s - loss: 0.2592 - accuracy: 0.9220 - val_loss: 0.1125 - val_accuracy: 0.9658 - 4s/epoch - 7ms/step\n",
            "Epoch 2/20\n",
            "600/600 - 2s - loss: 0.0971 - accuracy: 0.9701 - val_loss: 0.1120 - val_accuracy: 0.9657 - 2s/epoch - 3ms/step\n",
            "Epoch 3/20\n",
            "600/600 - 2s - loss: 0.0654 - accuracy: 0.9791 - val_loss: 0.0849 - val_accuracy: 0.9747 - 2s/epoch - 4ms/step\n",
            "Epoch 4/20\n",
            "600/600 - 2s - loss: 0.0475 - accuracy: 0.9845 - val_loss: 0.0672 - val_accuracy: 0.9797 - 2s/epoch - 3ms/step\n",
            "Epoch 5/20\n",
            "600/600 - 2s - loss: 0.0398 - accuracy: 0.9869 - val_loss: 0.0767 - val_accuracy: 0.9784 - 2s/epoch - 3ms/step\n",
            "Epoch 6/20\n",
            "600/600 - 2s - loss: 0.0322 - accuracy: 0.9898 - val_loss: 0.0791 - val_accuracy: 0.9771 - 2s/epoch - 3ms/step\n",
            "Epoch 7/20\n",
            "600/600 - 2s - loss: 0.0274 - accuracy: 0.9912 - val_loss: 0.0756 - val_accuracy: 0.9785 - 2s/epoch - 3ms/step\n",
            "Epoch 8/20\n",
            "600/600 - 2s - loss: 0.0242 - accuracy: 0.9926 - val_loss: 0.0800 - val_accuracy: 0.9788 - 2s/epoch - 3ms/step\n",
            "Epoch 9/20\n",
            "600/600 - 2s - loss: 0.0206 - accuracy: 0.9933 - val_loss: 0.0947 - val_accuracy: 0.9770 - 2s/epoch - 3ms/step\n",
            "Epoch 10/20\n",
            "600/600 - 2s - loss: 0.0220 - accuracy: 0.9926 - val_loss: 0.0990 - val_accuracy: 0.9786 - 2s/epoch - 4ms/step\n",
            "Epoch 11/20\n",
            "600/600 - 2s - loss: 0.0181 - accuracy: 0.9942 - val_loss: 0.0843 - val_accuracy: 0.9790 - 2s/epoch - 3ms/step\n",
            "Epoch 12/20\n",
            "600/600 - 2s - loss: 0.0174 - accuracy: 0.9939 - val_loss: 0.0915 - val_accuracy: 0.9779 - 2s/epoch - 3ms/step\n",
            "Epoch 13/20\n",
            "600/600 - 2s - loss: 0.0152 - accuracy: 0.9951 - val_loss: 0.0876 - val_accuracy: 0.9803 - 2s/epoch - 3ms/step\n",
            "Epoch 14/20\n",
            "600/600 - 2s - loss: 0.0127 - accuracy: 0.9957 - val_loss: 0.0938 - val_accuracy: 0.9797 - 2s/epoch - 3ms/step\n",
            "Epoch 15/20\n",
            "600/600 - 2s - loss: 0.0130 - accuracy: 0.9957 - val_loss: 0.1091 - val_accuracy: 0.9768 - 2s/epoch - 3ms/step\n",
            "Epoch 16/20\n",
            "600/600 - 2s - loss: 0.0136 - accuracy: 0.9955 - val_loss: 0.0836 - val_accuracy: 0.9799 - 2s/epoch - 4ms/step\n",
            "Epoch 17/20\n",
            "600/600 - 2s - loss: 0.0112 - accuracy: 0.9965 - val_loss: 0.1026 - val_accuracy: 0.9792 - 2s/epoch - 3ms/step\n",
            "Epoch 18/20\n",
            "600/600 - 2s - loss: 0.0103 - accuracy: 0.9967 - val_loss: 0.0779 - val_accuracy: 0.9826 - 2s/epoch - 3ms/step\n",
            "Epoch 19/20\n",
            "600/600 - 2s - loss: 0.0115 - accuracy: 0.9966 - val_loss: 0.0876 - val_accuracy: 0.9800 - 2s/epoch - 3ms/step\n",
            "Epoch 20/20\n",
            "600/600 - 2s - loss: 0.0088 - accuracy: 0.9970 - val_loss: 0.1046 - val_accuracy: 0.9805 - 2s/epoch - 3ms/step\n"
          ]
        }
      ]
    },
    {
      "cell_type": "code",
      "source": [
        "# Model 3 - Changing Learning Rate\n",
        "Inp=Input(shape=(784,))  # input layer\n",
        "x=Dense(n_hidden_1,activation='relu',name='Hidden_Layer_1')(Inp)\n",
        "x=Dense(n_hidden_2,activation='relu',name='Hidden_Layer_2')(x)\n",
        "x=Dense(n_hidden_3,activation='relu',name='Hidden_Layer_3')(x)\n",
        "x=Dense(n_hidden_4,activation='relu',name='Hidden_Layer_4')(x)\n",
        "output=Dense(num_digits,activation='softmax',name='Output_Layer')(x)\n",
        "\n",
        "learning_rate=0.01\n",
        "adam=keras.optimizers.Adam(lr=learning_rate)\n",
        "model3=Model(Inp,output)\n",
        "\n",
        "# Compile Model 3\n",
        "model3.compile(optimizer= \"adam\", loss='categorical_crossentropy', metrics=['accuracy'])"
      ],
      "metadata": {
        "colab": {
          "base_uri": "https://localhost:8080/"
        },
        "id": "9GDVEhhhqLp_",
        "outputId": "9dc2949f-ef96-4237-fd85-5d538e90f4c4"
      },
      "execution_count": null,
      "outputs": [
        {
          "output_type": "stream",
          "name": "stderr",
          "text": [
            "/usr/local/lib/python3.8/dist-packages/keras/optimizers/optimizer_v2/adam.py:117: UserWarning: The `lr` argument is deprecated, use `learning_rate` instead.\n",
            "  super().__init__(name, **kwargs)\n"
          ]
        }
      ]
    },
    {
      "cell_type": "code",
      "source": [
        "histort3=model3.fit(X_train, y_train, batch_size=batch_size, \n",
        "          epochs=epochs, \n",
        "          verbose=2, \n",
        "          validation_data=(X_test, y_test))"
      ],
      "metadata": {
        "colab": {
          "base_uri": "https://localhost:8080/"
        },
        "id": "iabghYmDq9VM",
        "outputId": "e65845f2-5e3a-4423-aecc-d1bd4f7c7ac8"
      },
      "execution_count": null,
      "outputs": [
        {
          "output_type": "stream",
          "name": "stdout",
          "text": [
            "Epoch 1/20\n",
            "600/600 - 3s - loss: 0.2579 - accuracy: 0.9221 - val_loss: 0.1170 - val_accuracy: 0.9628 - 3s/epoch - 6ms/step\n",
            "Epoch 2/20\n",
            "600/600 - 2s - loss: 0.0993 - accuracy: 0.9695 - val_loss: 0.0842 - val_accuracy: 0.9735 - 2s/epoch - 3ms/step\n",
            "Epoch 3/20\n",
            "600/600 - 2s - loss: 0.0666 - accuracy: 0.9793 - val_loss: 0.0789 - val_accuracy: 0.9761 - 2s/epoch - 3ms/step\n",
            "Epoch 4/20\n",
            "600/600 - 2s - loss: 0.0484 - accuracy: 0.9844 - val_loss: 0.0704 - val_accuracy: 0.9782 - 2s/epoch - 3ms/step\n",
            "Epoch 5/20\n",
            "600/600 - 2s - loss: 0.0395 - accuracy: 0.9872 - val_loss: 0.0875 - val_accuracy: 0.9747 - 2s/epoch - 4ms/step\n",
            "Epoch 6/20\n",
            "600/600 - 2s - loss: 0.0322 - accuracy: 0.9897 - val_loss: 0.0702 - val_accuracy: 0.9805 - 2s/epoch - 3ms/step\n",
            "Epoch 7/20\n",
            "600/600 - 2s - loss: 0.0281 - accuracy: 0.9905 - val_loss: 0.0726 - val_accuracy: 0.9791 - 2s/epoch - 3ms/step\n",
            "Epoch 8/20\n",
            "600/600 - 2s - loss: 0.0233 - accuracy: 0.9929 - val_loss: 0.0868 - val_accuracy: 0.9759 - 2s/epoch - 3ms/step\n",
            "Epoch 9/20\n",
            "600/600 - 2s - loss: 0.0237 - accuracy: 0.9922 - val_loss: 0.0842 - val_accuracy: 0.9798 - 2s/epoch - 3ms/step\n",
            "Epoch 10/20\n",
            "600/600 - 2s - loss: 0.0206 - accuracy: 0.9933 - val_loss: 0.0788 - val_accuracy: 0.9805 - 2s/epoch - 3ms/step\n",
            "Epoch 11/20\n",
            "600/600 - 2s - loss: 0.0166 - accuracy: 0.9942 - val_loss: 0.0880 - val_accuracy: 0.9792 - 2s/epoch - 4ms/step\n",
            "Epoch 12/20\n",
            "600/600 - 2s - loss: 0.0170 - accuracy: 0.9945 - val_loss: 0.0921 - val_accuracy: 0.9777 - 2s/epoch - 3ms/step\n",
            "Epoch 13/20\n",
            "600/600 - 2s - loss: 0.0181 - accuracy: 0.9941 - val_loss: 0.0940 - val_accuracy: 0.9787 - 2s/epoch - 3ms/step\n",
            "Epoch 14/20\n",
            "600/600 - 2s - loss: 0.0158 - accuracy: 0.9948 - val_loss: 0.0834 - val_accuracy: 0.9802 - 2s/epoch - 4ms/step\n",
            "Epoch 15/20\n",
            "600/600 - 2s - loss: 0.0134 - accuracy: 0.9957 - val_loss: 0.1066 - val_accuracy: 0.9794 - 2s/epoch - 3ms/step\n",
            "Epoch 16/20\n",
            "600/600 - 2s - loss: 0.0119 - accuracy: 0.9961 - val_loss: 0.0924 - val_accuracy: 0.9807 - 2s/epoch - 3ms/step\n",
            "Epoch 17/20\n",
            "600/600 - 2s - loss: 0.0121 - accuracy: 0.9964 - val_loss: 0.0932 - val_accuracy: 0.9797 - 2s/epoch - 4ms/step\n",
            "Epoch 18/20\n",
            "600/600 - 2s - loss: 0.0113 - accuracy: 0.9965 - val_loss: 0.0961 - val_accuracy: 0.9800 - 2s/epoch - 3ms/step\n",
            "Epoch 19/20\n",
            "600/600 - 2s - loss: 0.0116 - accuracy: 0.9965 - val_loss: 0.0845 - val_accuracy: 0.9803 - 2s/epoch - 3ms/step\n",
            "Epoch 20/20\n",
            "600/600 - 2s - loss: 0.0081 - accuracy: 0.9973 - val_loss: 0.0971 - val_accuracy: 0.9812 - 2s/epoch - 3ms/step\n"
          ]
        }
      ]
    },
    {
      "cell_type": "code",
      "source": [
        "# Model 4 - Adding Dropout layer\n",
        "Inp=Input(shape=(784,))  # input layer\n",
        "x=Dense(n_hidden_1,activation='relu',name='Hidden_Layer_1')(Inp)\n",
        "x=Dropout(0.3)(x)\n",
        "x=Dense(n_hidden_2,activation='relu',name='Hidden_Layer_2')(x)\n",
        "x=Dropout(0.3)(x)\n",
        "x=Dense(n_hidden_3,activation='relu',name='Hidden_Layer_3')(x)\n",
        "x=Dropout(0.3)(x)\n",
        "x=Dense(n_hidden_4,activation='relu',name='Hidden_Layer_4')(x)\n",
        "output=Dense(num_digits,activation='softmax',name='Output_Layer')(x)\n",
        "\n",
        "learning_rate=0.01\n",
        "adam=keras.optimizers.Adam(lr=learning_rate)\n",
        "model4=Model(Inp,output)\n",
        "\n",
        "# Compile Model 4\n",
        "model4.compile(optimizer= \"adam\", loss='categorical_crossentropy', metrics=['accuracy'])"
      ],
      "metadata": {
        "colab": {
          "base_uri": "https://localhost:8080/"
        },
        "id": "-j1w_Y9urL80",
        "outputId": "baeda704-93d3-46ec-9501-87707d10cd63"
      },
      "execution_count": null,
      "outputs": [
        {
          "output_type": "stream",
          "name": "stderr",
          "text": [
            "/usr/local/lib/python3.8/dist-packages/keras/optimizers/optimizer_v2/adam.py:117: UserWarning: The `lr` argument is deprecated, use `learning_rate` instead.\n",
            "  super().__init__(name, **kwargs)\n"
          ]
        }
      ]
    },
    {
      "cell_type": "code",
      "source": [
        "histort4=model4.fit(X_train, y_train, batch_size=batch_size, \n",
        "          epochs=epochs, \n",
        "          verbose=2, \n",
        "          validation_data=(X_test, y_test),\n",
        "          validation_steps=2)"
      ],
      "metadata": {
        "colab": {
          "base_uri": "https://localhost:8080/"
        },
        "id": "gIXSZGA2r-pV",
        "outputId": "c36fc18c-27c6-4c0f-cd81-b07fa33806f8"
      },
      "execution_count": null,
      "outputs": [
        {
          "output_type": "stream",
          "name": "stdout",
          "text": [
            "Epoch 1/20\n",
            "600/600 - 3s - loss: 0.4440 - accuracy: 0.8635 - val_loss: 0.1280 - val_accuracy: 0.9604 - 3s/epoch - 6ms/step\n",
            "Epoch 2/20\n",
            "600/600 - 2s - loss: 0.1834 - accuracy: 0.9477 - val_loss: 0.1041 - val_accuracy: 0.9692 - 2s/epoch - 3ms/step\n",
            "Epoch 3/20\n",
            "600/600 - 2s - loss: 0.1398 - accuracy: 0.9597 - val_loss: 0.0930 - val_accuracy: 0.9733 - 2s/epoch - 4ms/step\n",
            "Epoch 4/20\n",
            "600/600 - 2s - loss: 0.1211 - accuracy: 0.9659 - val_loss: 0.0836 - val_accuracy: 0.9749 - 2s/epoch - 3ms/step\n",
            "Epoch 5/20\n",
            "600/600 - 2s - loss: 0.1033 - accuracy: 0.9707 - val_loss: 0.0810 - val_accuracy: 0.9778 - 2s/epoch - 3ms/step\n",
            "Epoch 6/20\n",
            "600/600 - 2s - loss: 0.0940 - accuracy: 0.9724 - val_loss: 0.0971 - val_accuracy: 0.9731 - 2s/epoch - 3ms/step\n",
            "Epoch 7/20\n",
            "600/600 - 2s - loss: 0.0859 - accuracy: 0.9750 - val_loss: 0.0768 - val_accuracy: 0.9785 - 2s/epoch - 3ms/step\n",
            "Epoch 8/20\n",
            "600/600 - 2s - loss: 0.0786 - accuracy: 0.9770 - val_loss: 0.0776 - val_accuracy: 0.9790 - 2s/epoch - 3ms/step\n",
            "Epoch 9/20\n",
            "600/600 - 2s - loss: 0.0728 - accuracy: 0.9783 - val_loss: 0.0762 - val_accuracy: 0.9797 - 2s/epoch - 3ms/step\n",
            "Epoch 10/20\n",
            "600/600 - 2s - loss: 0.0659 - accuracy: 0.9801 - val_loss: 0.0828 - val_accuracy: 0.9774 - 2s/epoch - 4ms/step\n",
            "Epoch 11/20\n",
            "600/600 - 2s - loss: 0.0628 - accuracy: 0.9810 - val_loss: 0.0696 - val_accuracy: 0.9819 - 2s/epoch - 3ms/step\n",
            "Epoch 12/20\n",
            "600/600 - 2s - loss: 0.0565 - accuracy: 0.9833 - val_loss: 0.0779 - val_accuracy: 0.9796 - 2s/epoch - 3ms/step\n",
            "Epoch 13/20\n",
            "600/600 - 2s - loss: 0.0565 - accuracy: 0.9832 - val_loss: 0.0805 - val_accuracy: 0.9785 - 2s/epoch - 3ms/step\n",
            "Epoch 14/20\n",
            "600/600 - 2s - loss: 0.0525 - accuracy: 0.9844 - val_loss: 0.0766 - val_accuracy: 0.9809 - 2s/epoch - 3ms/step\n",
            "Epoch 15/20\n",
            "600/600 - 2s - loss: 0.0519 - accuracy: 0.9844 - val_loss: 0.0740 - val_accuracy: 0.9817 - 2s/epoch - 3ms/step\n",
            "Epoch 16/20\n",
            "600/600 - 2s - loss: 0.0515 - accuracy: 0.9846 - val_loss: 0.0678 - val_accuracy: 0.9829 - 2s/epoch - 4ms/step\n",
            "Epoch 17/20\n",
            "600/600 - 2s - loss: 0.0479 - accuracy: 0.9860 - val_loss: 0.0688 - val_accuracy: 0.9828 - 2s/epoch - 3ms/step\n",
            "Epoch 18/20\n",
            "600/600 - 2s - loss: 0.0459 - accuracy: 0.9862 - val_loss: 0.0671 - val_accuracy: 0.9824 - 2s/epoch - 3ms/step\n",
            "Epoch 19/20\n",
            "600/600 - 2s - loss: 0.0435 - accuracy: 0.9865 - val_loss: 0.0723 - val_accuracy: 0.9821 - 2s/epoch - 3ms/step\n",
            "Epoch 20/20\n",
            "600/600 - 2s - loss: 0.0443 - accuracy: 0.9869 - val_loss: 0.0625 - val_accuracy: 0.9847 - 2s/epoch - 3ms/step\n"
          ]
        }
      ]
    },
    {
      "cell_type": "code",
      "source": [
        "test_pred=pd.DataFrame(model4.predict(X_test,batch_size=200))\n",
        "test_pred=pd.DataFrame(test_pred.idxmax(axis=1))\n",
        "test_pred.index.name='Image_Id'\n",
        "test_pred=test_pred.rename(columns={0:'Label'}).reset_index()\n",
        "test_pred['Image_Id']=test_pred['Image_Id'] + 1\n",
        "\n",
        "test_pred.head()"
      ],
      "metadata": {
        "colab": {
          "base_uri": "https://localhost:8080/",
          "height": 224
        },
        "id": "zSy-A3iEr-xc",
        "outputId": "1e15007a-0f51-4cc7-8f10-25e6c2d9514c"
      },
      "execution_count": null,
      "outputs": [
        {
          "output_type": "stream",
          "name": "stdout",
          "text": [
            "50/50 [==============================] - 0s 2ms/step\n"
          ]
        },
        {
          "output_type": "execute_result",
          "data": {
            "text/plain": [
              "   Image_Id  Label\n",
              "0         1      7\n",
              "1         2      2\n",
              "2         3      1\n",
              "3         4      0\n",
              "4         5      4"
            ],
            "text/html": [
              "\n",
              "  <div id=\"df-0f5daad5-d6ae-47db-a71f-f256ca2d4b2e\">\n",
              "    <div class=\"colab-df-container\">\n",
              "      <div>\n",
              "<style scoped>\n",
              "    .dataframe tbody tr th:only-of-type {\n",
              "        vertical-align: middle;\n",
              "    }\n",
              "\n",
              "    .dataframe tbody tr th {\n",
              "        vertical-align: top;\n",
              "    }\n",
              "\n",
              "    .dataframe thead th {\n",
              "        text-align: right;\n",
              "    }\n",
              "</style>\n",
              "<table border=\"1\" class=\"dataframe\">\n",
              "  <thead>\n",
              "    <tr style=\"text-align: right;\">\n",
              "      <th></th>\n",
              "      <th>Image_Id</th>\n",
              "      <th>Label</th>\n",
              "    </tr>\n",
              "  </thead>\n",
              "  <tbody>\n",
              "    <tr>\n",
              "      <th>0</th>\n",
              "      <td>1</td>\n",
              "      <td>7</td>\n",
              "    </tr>\n",
              "    <tr>\n",
              "      <th>1</th>\n",
              "      <td>2</td>\n",
              "      <td>2</td>\n",
              "    </tr>\n",
              "    <tr>\n",
              "      <th>2</th>\n",
              "      <td>3</td>\n",
              "      <td>1</td>\n",
              "    </tr>\n",
              "    <tr>\n",
              "      <th>3</th>\n",
              "      <td>4</td>\n",
              "      <td>0</td>\n",
              "    </tr>\n",
              "    <tr>\n",
              "      <th>4</th>\n",
              "      <td>5</td>\n",
              "      <td>4</td>\n",
              "    </tr>\n",
              "  </tbody>\n",
              "</table>\n",
              "</div>\n",
              "      <button class=\"colab-df-convert\" onclick=\"convertToInteractive('df-0f5daad5-d6ae-47db-a71f-f256ca2d4b2e')\"\n",
              "              title=\"Convert this dataframe to an interactive table.\"\n",
              "              style=\"display:none;\">\n",
              "        \n",
              "  <svg xmlns=\"http://www.w3.org/2000/svg\" height=\"24px\"viewBox=\"0 0 24 24\"\n",
              "       width=\"24px\">\n",
              "    <path d=\"M0 0h24v24H0V0z\" fill=\"none\"/>\n",
              "    <path d=\"M18.56 5.44l.94 2.06.94-2.06 2.06-.94-2.06-.94-.94-2.06-.94 2.06-2.06.94zm-11 1L8.5 8.5l.94-2.06 2.06-.94-2.06-.94L8.5 2.5l-.94 2.06-2.06.94zm10 10l.94 2.06.94-2.06 2.06-.94-2.06-.94-.94-2.06-.94 2.06-2.06.94z\"/><path d=\"M17.41 7.96l-1.37-1.37c-.4-.4-.92-.59-1.43-.59-.52 0-1.04.2-1.43.59L10.3 9.45l-7.72 7.72c-.78.78-.78 2.05 0 2.83L4 21.41c.39.39.9.59 1.41.59.51 0 1.02-.2 1.41-.59l7.78-7.78 2.81-2.81c.8-.78.8-2.07 0-2.86zM5.41 20L4 18.59l7.72-7.72 1.47 1.35L5.41 20z\"/>\n",
              "  </svg>\n",
              "      </button>\n",
              "      \n",
              "  <style>\n",
              "    .colab-df-container {\n",
              "      display:flex;\n",
              "      flex-wrap:wrap;\n",
              "      gap: 12px;\n",
              "    }\n",
              "\n",
              "    .colab-df-convert {\n",
              "      background-color: #E8F0FE;\n",
              "      border: none;\n",
              "      border-radius: 50%;\n",
              "      cursor: pointer;\n",
              "      display: none;\n",
              "      fill: #1967D2;\n",
              "      height: 32px;\n",
              "      padding: 0 0 0 0;\n",
              "      width: 32px;\n",
              "    }\n",
              "\n",
              "    .colab-df-convert:hover {\n",
              "      background-color: #E2EBFA;\n",
              "      box-shadow: 0px 1px 2px rgba(60, 64, 67, 0.3), 0px 1px 3px 1px rgba(60, 64, 67, 0.15);\n",
              "      fill: #174EA6;\n",
              "    }\n",
              "\n",
              "    [theme=dark] .colab-df-convert {\n",
              "      background-color: #3B4455;\n",
              "      fill: #D2E3FC;\n",
              "    }\n",
              "\n",
              "    [theme=dark] .colab-df-convert:hover {\n",
              "      background-color: #434B5C;\n",
              "      box-shadow: 0px 1px 3px 1px rgba(0, 0, 0, 0.15);\n",
              "      filter: drop-shadow(0px 1px 2px rgba(0, 0, 0, 0.3));\n",
              "      fill: #FFFFFF;\n",
              "    }\n",
              "  </style>\n",
              "\n",
              "      <script>\n",
              "        const buttonEl =\n",
              "          document.querySelector('#df-0f5daad5-d6ae-47db-a71f-f256ca2d4b2e button.colab-df-convert');\n",
              "        buttonEl.style.display =\n",
              "          google.colab.kernel.accessAllowed ? 'block' : 'none';\n",
              "\n",
              "        async function convertToInteractive(key) {\n",
              "          const element = document.querySelector('#df-0f5daad5-d6ae-47db-a71f-f256ca2d4b2e');\n",
              "          const dataTable =\n",
              "            await google.colab.kernel.invokeFunction('convertToInteractive',\n",
              "                                                     [key], {});\n",
              "          if (!dataTable) return;\n",
              "\n",
              "          const docLinkHtml = 'Like what you see? Visit the ' +\n",
              "            '<a target=\"_blank\" href=https://colab.research.google.com/notebooks/data_table.ipynb>data table notebook</a>'\n",
              "            + ' to learn more about interactive tables.';\n",
              "          element.innerHTML = '';\n",
              "          dataTable['output_type'] = 'display_data';\n",
              "          await google.colab.output.renderOutput(dataTable, element);\n",
              "          const docLink = document.createElement('div');\n",
              "          docLink.innerHTML = docLinkHtml;\n",
              "          element.appendChild(docLink);\n",
              "        }\n",
              "      </script>\n",
              "    </div>\n",
              "  </div>\n",
              "  "
            ]
          },
          "metadata": {},
          "execution_count": 51
        }
      ]
    },
    {
      "cell_type": "markdown",
      "source": [
        "### Tuning the ANN"
      ],
      "metadata": {
        "id": "rwRTCwugp1Hz"
      }
    },
    {
      "cell_type": "code",
      "source": [
        "from keras.wrappers.scikit_learn import KerasClassifier\n",
        "from sklearn.model_selection import GridSearchCV\n",
        "from keras.models import Sequential\n",
        "from keras.layers import Dense\n",
        "\n",
        "def build_classifier(optimizer):\n",
        "  classifier=Sequential()\n",
        "  classifier.add(Dense(units=6,kernal_initializer='uniform',activation='relu',input_dim=11))\n",
        "  classifier.add(Dense(units=6,kernal_initializer='uniform',activation='relu'))\n",
        "  classifier.add(Dense(units=1,kernal_initializer='uniform',activation='sigmoid'))\n",
        "  classifier.compile(optimizer= optimizer, loss='binary_crossentropy', metrics=['accuracy'])\n",
        "  return classifier\n",
        "\n",
        "classifier=KerasClassifier(build_fn=build_classifier)\n",
        "\n",
        "parameters={\n",
        "    'batch_size':[25,32],\n",
        "    'epochs':[1,2],\n",
        "    'optimizer':['adam','rmsprop']}\n",
        "\n",
        "grid_search=GridSearchCV(estimator=classifier,\n",
        "                         param_grid=parameters,\n",
        "                         scoring='accuracy',\n",
        "                         cv=10)\n",
        "\n",
        "grid_search=grid_search.fit(X_train,y_train)\n",
        "\n",
        "best_parameters=grid_search.best_params_\n",
        "best_accuracy=grid_search.best_score_          "
      ],
      "metadata": {
        "id": "7jSId5IXp-QK"
      },
      "execution_count": null,
      "outputs": []
    },
    {
      "cell_type": "markdown",
      "source": [
        "### Data Augmentation - adding some noise to image to get better result"
      ],
      "metadata": {
        "id": "nrg5KTUQvgRx"
      }
    },
    {
      "cell_type": "code",
      "source": [
        "from keras.preprocessing.image import ImageDataGenerator\n",
        "\n",
        "train_datagen=ImageDataGenerator(rescale=1./255,\n",
        "                                 shear_range=0.2,\n",
        "                                 zoom_range=0.2,\n",
        "                                 horizontal_flip=True)\n",
        "test_datagen=ImageDataGenerator(rescale=1./255)\n",
        "\n",
        "training_set=train_datagen.flow_from_directory('dataset/training_set',\n",
        "                                               target_size=(64,64),\n",
        "                                               batch_size=32,\n",
        "                                               class_mode='binary')\n",
        "test_set=train_datagen.flow_from_directory('dataset/test_set',\n",
        "                                               target_size=(64,64),\n",
        "                                               batch_size=32,\n",
        "                                               class_mode='binary')"
      ],
      "metadata": {
        "id": "WUq0rafqve_T"
      },
      "execution_count": null,
      "outputs": []
    },
    {
      "cell_type": "markdown",
      "source": [
        "### Pre-Processing"
      ],
      "metadata": {
        "id": "NQputJxP23vP"
      }
    },
    {
      "cell_type": "code",
      "source": [
        "def preprocessing(x,y):\n",
        "  x=tf.cast(x,tf.float32)/255.0\n",
        "  y=tf.cast(y,tf.int64)\n",
        "  return x,y\n",
        "\n",
        "def create_dataset(xs,ys,n_classes=10):\n",
        "  ys=tf.ohe_hot(ys,depth=n_classes)\n",
        "  return tf.data.Dataset.from_tensor_slices((xs,ys))\n",
        "\n",
        "training_data=create_dataset(X_train,y_test)\n",
        "val_data=create_dataset(X_test,y_test)"
      ],
      "metadata": {
        "id": "DNwXdWbC22uX"
      },
      "execution_count": null,
      "outputs": []
    }
  ]
}