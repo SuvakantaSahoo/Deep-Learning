{
 "cells": [
  {
   "cell_type": "markdown",
   "id": "8489a36d",
   "metadata": {},
   "source": [
    "### Regular Expressions"
   ]
  },
  {
   "cell_type": "code",
   "execution_count": 1,
   "id": "c812f266",
   "metadata": {},
   "outputs": [],
   "source": [
    "import re"
   ]
  },
  {
   "cell_type": "code",
   "execution_count": 65,
   "id": "2bce7fb5",
   "metadata": {},
   "outputs": [
    {
     "data": {
      "text/plain": [
       "'tiger'"
      ]
     },
     "execution_count": 65,
     "metadata": {},
     "output_type": "execute_result"
    }
   ],
   "source": [
    "# match()\n",
    "\n",
    "string='tiger is the national animal of India'\n",
    "pattern='tiger'\n",
    "\n",
    "result=re.match(pattern,string).group(0)\n",
    "result"
   ]
  },
  {
   "cell_type": "code",
   "execution_count": 12,
   "id": "1efcab8f",
   "metadata": {},
   "outputs": [
    {
     "data": {
      "text/plain": [
       "'tiger'"
      ]
     },
     "execution_count": 12,
     "metadata": {},
     "output_type": "execute_result"
    }
   ],
   "source": [
    "# search()\n",
    "\n",
    "string='National animal of India is tiger'\n",
    "pattern='tiger'\n",
    "\n",
    "result=re.search(pattern,string).group(0)\n",
    "result"
   ]
  },
  {
   "cell_type": "code",
   "execution_count": 17,
   "id": "b8e41c30",
   "metadata": {},
   "outputs": [
    {
     "data": {
      "text/plain": [
       "['national', 'national']"
      ]
     },
     "execution_count": 17,
     "metadata": {},
     "output_type": "execute_result"
    }
   ],
   "source": [
    "# findall()\n",
    "\n",
    "string='Tiger is the national animal of India and national sport is Hockey'\n",
    "pattern='national'\n",
    "\n",
    "result=re.findall(pattern,string)\n",
    "result"
   ]
  },
  {
   "cell_type": "code",
   "execution_count": 27,
   "id": "69e2550d",
   "metadata": {},
   "outputs": [
    {
     "data": {
      "text/plain": [
       "['12-02-1669', '23-05-1673']"
      ]
     },
     "execution_count": 27,
     "metadata": {},
     "output_type": "execute_result"
    }
   ],
   "source": [
    "string='Ron was born on 12-02-1669 and he was admitted to school on 23-05-1673'\n",
    "pattern='\\d{2}-\\d{2}-\\d{4}'\n",
    "\n",
    "result=re.findall(pattern,string)\n",
    "result"
   ]
  },
  {
   "cell_type": "code",
   "execution_count": 80,
   "id": "ca521010",
   "metadata": {},
   "outputs": [
    {
     "name": "stdout",
     "output_type": "stream",
     "text": [
      "13\n",
      "42\n"
     ]
    }
   ],
   "source": [
    "# finditer()\n",
    "\n",
    "string='Tiger is the national animal of India and national sport is Hockey'\n",
    "pattern='national'\n",
    "\n",
    "result=re.finditer(pattern,string)\n",
    "for index in result:\n",
    "    print(index.start())"
   ]
  },
  {
   "cell_type": "code",
   "execution_count": 81,
   "id": "5530768b",
   "metadata": {},
   "outputs": [
    {
     "name": "stdout",
     "output_type": "stream",
     "text": [
      "21\n",
      "50\n"
     ]
    }
   ],
   "source": [
    "string='Tiger is the national animal of India and national sport is Hockey'\n",
    "pattern='national'\n",
    "\n",
    "result=re.finditer(pattern,string)\n",
    "for index in result:\n",
    "    print(index.end())"
   ]
  },
  {
   "cell_type": "code",
   "execution_count": 82,
   "id": "5468a07e",
   "metadata": {},
   "outputs": [
    {
     "name": "stdout",
     "output_type": "stream",
     "text": [
      "national\n",
      "national\n"
     ]
    }
   ],
   "source": [
    "string='Tiger is the national animal of India and national sport is Hockey'\n",
    "pattern='national'\n",
    "\n",
    "result=re.finditer(pattern,string)\n",
    "for index in result:\n",
    "    print(index.group(0))"
   ]
  },
  {
   "cell_type": "code",
   "execution_count": 28,
   "id": "0f51ccdf",
   "metadata": {},
   "outputs": [
    {
     "data": {
      "text/plain": [
       "'Tiger is the National animal of India and National sport is Hockey'"
      ]
     },
     "execution_count": 28,
     "metadata": {},
     "output_type": "execute_result"
    }
   ],
   "source": [
    "# sub()\n",
    "\n",
    "string='Tiger is the national animal of India and national sport is Hockey'\n",
    "pattern='national'\n",
    "\n",
    "result=re.sub(pattern,'National',string)\n",
    "result"
   ]
  },
  {
   "cell_type": "code",
   "execution_count": 29,
   "id": "c2951f7e",
   "metadata": {},
   "outputs": [
    {
     "data": {
      "text/plain": [
       "['This', 'is', 'a', 'sample', 'text', 'string']"
      ]
     },
     "execution_count": 29,
     "metadata": {},
     "output_type": "execute_result"
    }
   ],
   "source": [
    "# split()\n",
    "\n",
    "string='This is;a,sample,text,string'\n",
    "pattern='[;,\\s]'\n",
    "\n",
    "result=re.split(pattern,string)\n",
    "result"
   ]
  },
  {
   "cell_type": "markdown",
   "id": "43e75a56",
   "metadata": {},
   "source": [
    "### NLTK"
   ]
  },
  {
   "cell_type": "code",
   "execution_count": 56,
   "id": "af5b6c1a",
   "metadata": {},
   "outputs": [
    {
     "name": "stderr",
     "output_type": "stream",
     "text": [
      "[nltk_data] Downloading package averaged_perceptron_tagger to\n",
      "[nltk_data]     C:\\Users\\Suvakanta\\AppData\\Roaming\\nltk_data...\n",
      "[nltk_data]   Unzipping taggers\\averaged_perceptron_tagger.zip.\n"
     ]
    },
    {
     "data": {
      "text/plain": [
       "True"
      ]
     },
     "execution_count": 56,
     "metadata": {},
     "output_type": "execute_result"
    }
   ],
   "source": [
    "import nltk\n",
    "nltk.download('punkt')  # for punctuation marks\n",
    "nltk.download('averaged_perceptron_tagger')  # for pos_tag"
   ]
  },
  {
   "cell_type": "code",
   "execution_count": 42,
   "id": "59a16426",
   "metadata": {},
   "outputs": [
    {
     "name": "stdout",
     "output_type": "stream",
     "text": [
      "['Hii John, How are you ?', 'Tiger is the national animal of India.', 'National sport is Hockey']\n",
      "\n",
      "['Hii', 'John', ',', 'How', 'are', 'you', '?', 'Tiger', 'is', 'the', 'national', 'animal', 'of', 'India', '.', 'National', 'sport', 'is', 'Hockey']\n"
     ]
    }
   ],
   "source": [
    "# Tokenization\n",
    "\n",
    "from nltk.tokenize import sent_tokenize,word_tokenize\n",
    "\n",
    "text='Hii John, How are you ? Tiger is the national animal of India. National sport is Hockey'\n",
    "\n",
    "print(sent_tokenize(text))\n",
    "print()\n",
    "print(word_tokenize(text))"
   ]
  },
  {
   "cell_type": "code",
   "execution_count": 44,
   "id": "6c247c4f",
   "metadata": {},
   "outputs": [
    {
     "name": "stdout",
     "output_type": "stream",
     "text": [
      "play\n",
      "play\n",
      "play\n",
      "\n",
      "increas\n"
     ]
    }
   ],
   "source": [
    "# Stemming\n",
    "\n",
    "from nltk.stem import PorterStemmer\n",
    "\n",
    "stemmer=PorterStemmer()\n",
    "\n",
    "print(stemmer.stem('playing'))\n",
    "print(stemmer.stem('played'))\n",
    "print(stemmer.stem('plays'))\n",
    "print()\n",
    "print(stemmer.stem('increases'))"
   ]
  },
  {
   "cell_type": "code",
   "execution_count": 54,
   "id": "932be37b",
   "metadata": {},
   "outputs": [
    {
     "name": "stdout",
     "output_type": "stream",
     "text": [
      "increase\n",
      "\n",
      "running\n",
      "\n",
      "run\n"
     ]
    }
   ],
   "source": [
    "# Lemmatization\n",
    "\n",
    "from nltk.stem import WordNetLemmatizer\n",
    "\n",
    "lema=WordNetLemmatizer()\n",
    "\n",
    "print(lema.lemmatize('increases'))\n",
    "print()\n",
    "print(lema.lemmatize('running'))\n",
    "print()\n",
    "print(lema.lemmatize('running',pos='v'))"
   ]
  },
  {
   "cell_type": "code",
   "execution_count": 57,
   "id": "e2a27ed5",
   "metadata": {},
   "outputs": [
    {
     "data": {
      "text/plain": [
       "[('Hii', 'NNP'),\n",
       " ('John', 'NNP'),\n",
       " (',', ','),\n",
       " ('How', 'NNP'),\n",
       " ('are', 'VBP'),\n",
       " ('you', 'PRP'),\n",
       " ('?', '.'),\n",
       " ('Tiger', \"''\"),\n",
       " ('is', 'VBZ'),\n",
       " ('the', 'DT'),\n",
       " ('national', 'JJ'),\n",
       " ('animal', 'NN'),\n",
       " ('of', 'IN'),\n",
       " ('India', 'NNP'),\n",
       " ('.', '.'),\n",
       " ('National', 'NNP'),\n",
       " ('sport', 'NN'),\n",
       " ('is', 'VBZ'),\n",
       " ('Hockey', 'NNP')]"
      ]
     },
     "execution_count": 57,
     "metadata": {},
     "output_type": "execute_result"
    }
   ],
   "source": [
    "# Part of Speech Tags\n",
    "\n",
    "from nltk import pos_tag\n",
    "\n",
    "text='Hii John, How are you ? Tiger is the national animal of India. National sport is Hockey'\n",
    "\n",
    "tokens=word_tokenize(text)\n",
    "\n",
    "pos_tag(tokens)"
   ]
  },
  {
   "cell_type": "code",
   "execution_count": 64,
   "id": "7c1bcb27",
   "metadata": {},
   "outputs": [
    {
     "data": {
      "text/plain": [
       "[Synset('computer.n.01'), Synset('calculator.n.01')]"
      ]
     },
     "execution_count": 64,
     "metadata": {},
     "output_type": "execute_result"
    }
   ],
   "source": [
    "from nltk.corpus import wordnet\n",
    "\n",
    "wordnet.synsets('computer')  # it returns synonames"
   ]
  },
  {
   "cell_type": "code",
   "execution_count": 84,
   "id": "4f7347f9",
   "metadata": {},
   "outputs": [
    {
     "name": "stdout",
     "output_type": "stream",
     "text": [
      "('I', 'love')\n",
      "('love', 'to')\n",
      "('to', 'play')\n",
      "('play', 'cricket')\n"
     ]
    }
   ],
   "source": [
    "# N-grams\n",
    "\n",
    "from nltk import ngrams\n",
    "\n",
    "sentence='I love to play cricket'\n",
    "\n",
    "n=2\n",
    "for gram in ngrams(word_tokenize(sentence),n):\n",
    "    print(gram)"
   ]
  },
  {
   "cell_type": "code",
   "execution_count": 91,
   "id": "05f7dfc0",
   "metadata": {},
   "outputs": [
    {
     "data": {
      "text/plain": [
       "[('I', 'love'), ('love', 'to'), ('to', 'play'), ('play', 'cricket')]"
      ]
     },
     "execution_count": 91,
     "metadata": {},
     "output_type": "execute_result"
    }
   ],
   "source": [
    "sentence='I love to play cricket'\n",
    "\n",
    "n=2\n",
    "list(ngrams(word_tokenize(sentence),n))"
   ]
  },
  {
   "cell_type": "code",
   "execution_count": 94,
   "id": "44d6c770",
   "metadata": {},
   "outputs": [
    {
     "name": "stdout",
     "output_type": "stream",
     "text": [
      "[(1, 2, 3), (2, 3, 4), (3, 4, 5)]\n",
      "\n",
      "[(1, 2), (2, 3), (3, 4), (4, 5), (5, None)]\n",
      "\n",
      "[(None, 1), (1, 2), (2, 3), (3, 4), (4, 5)]\n"
     ]
    }
   ],
   "source": [
    "print(list(ngrams([1,2,3,4,5], 3)))\n",
    "print()\n",
    "print(list(ngrams([1,2,3,4,5], 2,pad_right=True)))\n",
    "print()\n",
    "print(list(ngrams([1,2,3,4,5], 2,pad_left=True)))"
   ]
  },
  {
   "cell_type": "code",
   "execution_count": null,
   "id": "cb01a388",
   "metadata": {},
   "outputs": [],
   "source": []
  }
 ],
 "metadata": {
  "kernelspec": {
   "display_name": "Python 3 (ipykernel)",
   "language": "python",
   "name": "python3"
  },
  "language_info": {
   "codemirror_mode": {
    "name": "ipython",
    "version": 3
   },
   "file_extension": ".py",
   "mimetype": "text/x-python",
   "name": "python",
   "nbconvert_exporter": "python",
   "pygments_lexer": "ipython3",
   "version": "3.10.9"
  }
 },
 "nbformat": 4,
 "nbformat_minor": 5
}
